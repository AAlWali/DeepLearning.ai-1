{
 "cells": [
  {
   "cell_type": "code",
   "execution_count": 1,
   "metadata": {},
   "outputs": [
    {
     "name": "stderr",
     "output_type": "stream",
     "text": [
      "C:\\Users\\nishant.sethi\\AppData\\Local\\Continuum\\anaconda3\\lib\\site-packages\\h5py\\__init__.py:36: FutureWarning: Conversion of the second argument of issubdtype from `float` to `np.floating` is deprecated. In future, it will be treated as `np.float64 == np.dtype(float).type`.\n",
      "  from ._conv import register_converters as _register_converters\n",
      "Using TensorFlow backend.\n"
     ]
    }
   ],
   "source": [
    "import numpy as np\n",
    "import os\n",
    "import h5py\n",
    "from keras.preprocessing import image\n",
    "from keras.applications.vgg16 import preprocess_input"
   ]
  },
  {
   "cell_type": "code",
   "execution_count": 3,
   "metadata": {},
   "outputs": [
    {
     "data": {
      "text/plain": [
       "array([[[153.,  91.,  40.],\n",
       "        [182., 127.,  73.],\n",
       "        [172., 123.,  67.],\n",
       "        ...,\n",
       "        [204., 182.,  60.],\n",
       "        [188., 156.,  83.],\n",
       "        [189., 157.,  84.]],\n",
       "\n",
       "       [[189., 136.,  94.],\n",
       "        [142.,  95.,  51.],\n",
       "        [148., 108.,  59.],\n",
       "        ...,\n",
       "        [238., 211., 104.],\n",
       "        [224., 192., 105.],\n",
       "        [194., 162.,  75.]],\n",
       "\n",
       "       [[111.,  70.,  38.],\n",
       "        [ 99.,  61.,  25.],\n",
       "        [194., 160., 123.],\n",
       "        ...,\n",
       "        [229., 194., 110.],\n",
       "        [227., 192.,  88.],\n",
       "        [212., 177.,  73.]],\n",
       "\n",
       "       ...,\n",
       "\n",
       "       [[186., 119.,  66.],\n",
       "        [183., 116.,  63.],\n",
       "        [189., 123.,  71.],\n",
       "        ...,\n",
       "        [186., 134.,  86.],\n",
       "        [229., 175., 128.],\n",
       "        [221., 167., 120.]],\n",
       "\n",
       "       [[186., 119.,  66.],\n",
       "        [184., 117.,  64.],\n",
       "        [190., 124.,  72.],\n",
       "        ...,\n",
       "        [163., 101.,  62.],\n",
       "        [214., 161., 109.],\n",
       "        [212., 159., 107.]],\n",
       "\n",
       "       [[181., 114.,  61.],\n",
       "        [186., 119.,  66.],\n",
       "        [191., 125.,  73.],\n",
       "        ...,\n",
       "        [132.,  63.,  30.],\n",
       "        [180., 128.,  70.],\n",
       "        [190., 138.,  80.]]], dtype=float32)"
      ]
     },
     "execution_count": 3,
     "metadata": {},
     "output_type": "execute_result"
    }
   ],
   "source": [
    "h5_train=h5py.File('dog_breed_train.h5', 'r')\n",
    "h5_train[\"train\"][0]"
   ]
  },
  {
   "cell_type": "code",
   "execution_count": null,
   "metadata": {},
   "outputs": [],
   "source": [
    "X_train=h5_train[\"train\"][:]\n",
    "X_train=preprocess_input(X_train)"
   ]
  }
 ],
 "metadata": {
  "kernelspec": {
   "display_name": "Python 3",
   "language": "python",
   "name": "python3"
  },
  "language_info": {
   "codemirror_mode": {
    "name": "ipython",
    "version": 3
   },
   "file_extension": ".py",
   "mimetype": "text/x-python",
   "name": "python",
   "nbconvert_exporter": "python",
   "pygments_lexer": "ipython3",
   "version": "3.6.5"
  }
 },
 "nbformat": 4,
 "nbformat_minor": 2
}
